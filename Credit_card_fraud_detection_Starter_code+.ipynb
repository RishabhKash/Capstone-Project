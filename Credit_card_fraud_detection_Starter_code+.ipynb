{
 "cells": [
  {
   "cell_type": "markdown",
   "metadata": {},
   "source": [
    "## Credit Card Fraud Detection\n",
    "\n",
    "In this project  we'll predict fraudulent credit card transactions with the help of Machine learning models.\n",
    "Importing few libraries to get started."
   ]
  },
  {
   "cell_type": "code",
   "execution_count": 1,
   "metadata": {},
   "outputs": [],
   "source": [
    "import warnings\n",
    "warnings.filterwarnings('ignore')"
   ]
  },
  {
   "cell_type": "code",
   "execution_count": 2,
   "metadata": {
    "scrolled": false
   },
   "outputs": [],
   "source": [
    "import numpy as np\n",
    "import pandas as pd\n",
    "\n",
    "import matplotlib.pyplot as plt\n",
    "%matplotlib inline\n",
    "import seaborn as sns\n",
    "\n",
    "from sklearn import metrics\n",
    "from sklearn import preprocessing"
   ]
  },
  {
   "cell_type": "markdown",
   "metadata": {},
   "source": [
    "## Exploratory data analysis"
   ]
  },
  {
   "cell_type": "code",
   "execution_count": 3,
   "metadata": {},
   "outputs": [
    {
     "data": {
      "text/html": [
       "<div>\n",
       "<style scoped>\n",
       "    .dataframe tbody tr th:only-of-type {\n",
       "        vertical-align: middle;\n",
       "    }\n",
       "\n",
       "    .dataframe tbody tr th {\n",
       "        vertical-align: top;\n",
       "    }\n",
       "\n",
       "    .dataframe thead th {\n",
       "        text-align: right;\n",
       "    }\n",
       "</style>\n",
       "<table border=\"1\" class=\"dataframe\">\n",
       "  <thead>\n",
       "    <tr style=\"text-align: right;\">\n",
       "      <th></th>\n",
       "      <th>Time</th>\n",
       "      <th>V1</th>\n",
       "      <th>V2</th>\n",
       "      <th>V3</th>\n",
       "      <th>V4</th>\n",
       "      <th>V5</th>\n",
       "      <th>V6</th>\n",
       "      <th>V7</th>\n",
       "      <th>V8</th>\n",
       "      <th>V9</th>\n",
       "      <th>...</th>\n",
       "      <th>V21</th>\n",
       "      <th>V22</th>\n",
       "      <th>V23</th>\n",
       "      <th>V24</th>\n",
       "      <th>V25</th>\n",
       "      <th>V26</th>\n",
       "      <th>V27</th>\n",
       "      <th>V28</th>\n",
       "      <th>Amount</th>\n",
       "      <th>Class</th>\n",
       "    </tr>\n",
       "  </thead>\n",
       "  <tbody>\n",
       "    <tr>\n",
       "      <td>0</td>\n",
       "      <td>0.0</td>\n",
       "      <td>-1.359807</td>\n",
       "      <td>-0.072781</td>\n",
       "      <td>2.536347</td>\n",
       "      <td>1.378155</td>\n",
       "      <td>-0.338321</td>\n",
       "      <td>0.462388</td>\n",
       "      <td>0.239599</td>\n",
       "      <td>0.098698</td>\n",
       "      <td>0.363787</td>\n",
       "      <td>...</td>\n",
       "      <td>-0.018307</td>\n",
       "      <td>0.277838</td>\n",
       "      <td>-0.110474</td>\n",
       "      <td>0.066928</td>\n",
       "      <td>0.128539</td>\n",
       "      <td>-0.189115</td>\n",
       "      <td>0.133558</td>\n",
       "      <td>-0.021053</td>\n",
       "      <td>149.62</td>\n",
       "      <td>0</td>\n",
       "    </tr>\n",
       "    <tr>\n",
       "      <td>1</td>\n",
       "      <td>0.0</td>\n",
       "      <td>1.191857</td>\n",
       "      <td>0.266151</td>\n",
       "      <td>0.166480</td>\n",
       "      <td>0.448154</td>\n",
       "      <td>0.060018</td>\n",
       "      <td>-0.082361</td>\n",
       "      <td>-0.078803</td>\n",
       "      <td>0.085102</td>\n",
       "      <td>-0.255425</td>\n",
       "      <td>...</td>\n",
       "      <td>-0.225775</td>\n",
       "      <td>-0.638672</td>\n",
       "      <td>0.101288</td>\n",
       "      <td>-0.339846</td>\n",
       "      <td>0.167170</td>\n",
       "      <td>0.125895</td>\n",
       "      <td>-0.008983</td>\n",
       "      <td>0.014724</td>\n",
       "      <td>2.69</td>\n",
       "      <td>0</td>\n",
       "    </tr>\n",
       "    <tr>\n",
       "      <td>2</td>\n",
       "      <td>1.0</td>\n",
       "      <td>-1.358354</td>\n",
       "      <td>-1.340163</td>\n",
       "      <td>1.773209</td>\n",
       "      <td>0.379780</td>\n",
       "      <td>-0.503198</td>\n",
       "      <td>1.800499</td>\n",
       "      <td>0.791461</td>\n",
       "      <td>0.247676</td>\n",
       "      <td>-1.514654</td>\n",
       "      <td>...</td>\n",
       "      <td>0.247998</td>\n",
       "      <td>0.771679</td>\n",
       "      <td>0.909412</td>\n",
       "      <td>-0.689281</td>\n",
       "      <td>-0.327642</td>\n",
       "      <td>-0.139097</td>\n",
       "      <td>-0.055353</td>\n",
       "      <td>-0.059752</td>\n",
       "      <td>378.66</td>\n",
       "      <td>0</td>\n",
       "    </tr>\n",
       "    <tr>\n",
       "      <td>3</td>\n",
       "      <td>1.0</td>\n",
       "      <td>-0.966272</td>\n",
       "      <td>-0.185226</td>\n",
       "      <td>1.792993</td>\n",
       "      <td>-0.863291</td>\n",
       "      <td>-0.010309</td>\n",
       "      <td>1.247203</td>\n",
       "      <td>0.237609</td>\n",
       "      <td>0.377436</td>\n",
       "      <td>-1.387024</td>\n",
       "      <td>...</td>\n",
       "      <td>-0.108300</td>\n",
       "      <td>0.005274</td>\n",
       "      <td>-0.190321</td>\n",
       "      <td>-1.175575</td>\n",
       "      <td>0.647376</td>\n",
       "      <td>-0.221929</td>\n",
       "      <td>0.062723</td>\n",
       "      <td>0.061458</td>\n",
       "      <td>123.50</td>\n",
       "      <td>0</td>\n",
       "    </tr>\n",
       "    <tr>\n",
       "      <td>4</td>\n",
       "      <td>2.0</td>\n",
       "      <td>-1.158233</td>\n",
       "      <td>0.877737</td>\n",
       "      <td>1.548718</td>\n",
       "      <td>0.403034</td>\n",
       "      <td>-0.407193</td>\n",
       "      <td>0.095921</td>\n",
       "      <td>0.592941</td>\n",
       "      <td>-0.270533</td>\n",
       "      <td>0.817739</td>\n",
       "      <td>...</td>\n",
       "      <td>-0.009431</td>\n",
       "      <td>0.798278</td>\n",
       "      <td>-0.137458</td>\n",
       "      <td>0.141267</td>\n",
       "      <td>-0.206010</td>\n",
       "      <td>0.502292</td>\n",
       "      <td>0.219422</td>\n",
       "      <td>0.215153</td>\n",
       "      <td>69.99</td>\n",
       "      <td>0</td>\n",
       "    </tr>\n",
       "  </tbody>\n",
       "</table>\n",
       "<p>5 rows × 31 columns</p>\n",
       "</div>"
      ],
      "text/plain": [
       "   Time        V1        V2        V3        V4        V5        V6        V7  \\\n",
       "0   0.0 -1.359807 -0.072781  2.536347  1.378155 -0.338321  0.462388  0.239599   \n",
       "1   0.0  1.191857  0.266151  0.166480  0.448154  0.060018 -0.082361 -0.078803   \n",
       "2   1.0 -1.358354 -1.340163  1.773209  0.379780 -0.503198  1.800499  0.791461   \n",
       "3   1.0 -0.966272 -0.185226  1.792993 -0.863291 -0.010309  1.247203  0.237609   \n",
       "4   2.0 -1.158233  0.877737  1.548718  0.403034 -0.407193  0.095921  0.592941   \n",
       "\n",
       "         V8        V9  ...       V21       V22       V23       V24       V25  \\\n",
       "0  0.098698  0.363787  ... -0.018307  0.277838 -0.110474  0.066928  0.128539   \n",
       "1  0.085102 -0.255425  ... -0.225775 -0.638672  0.101288 -0.339846  0.167170   \n",
       "2  0.247676 -1.514654  ...  0.247998  0.771679  0.909412 -0.689281 -0.327642   \n",
       "3  0.377436 -1.387024  ... -0.108300  0.005274 -0.190321 -1.175575  0.647376   \n",
       "4 -0.270533  0.817739  ... -0.009431  0.798278 -0.137458  0.141267 -0.206010   \n",
       "\n",
       "        V26       V27       V28  Amount  Class  \n",
       "0 -0.189115  0.133558 -0.021053  149.62      0  \n",
       "1  0.125895 -0.008983  0.014724    2.69      0  \n",
       "2 -0.139097 -0.055353 -0.059752  378.66      0  \n",
       "3 -0.221929  0.062723  0.061458  123.50      0  \n",
       "4  0.502292  0.219422  0.215153   69.99      0  \n",
       "\n",
       "[5 rows x 31 columns]"
      ]
     },
     "execution_count": 3,
     "metadata": {},
     "output_type": "execute_result"
    }
   ],
   "source": [
    "# Loading and checking the first five rows of data\n",
    "df = pd.read_csv('creditcard.csv')\n",
    "df.head()"
   ]
  },
  {
   "cell_type": "code",
   "execution_count": 4,
   "metadata": {},
   "outputs": [
    {
     "data": {
      "text/plain": [
       "(284807, 31)"
      ]
     },
     "execution_count": 4,
     "metadata": {},
     "output_type": "execute_result"
    }
   ],
   "source": [
    "# Total count of rows and columns\n",
    "df.shape"
   ]
  },
  {
   "cell_type": "code",
   "execution_count": 5,
   "metadata": {},
   "outputs": [
    {
     "name": "stdout",
     "output_type": "stream",
     "text": [
      "<class 'pandas.core.frame.DataFrame'>\n",
      "RangeIndex: 284807 entries, 0 to 284806\n",
      "Data columns (total 31 columns):\n",
      "Time      284807 non-null float64\n",
      "V1        284807 non-null float64\n",
      "V2        284807 non-null float64\n",
      "V3        284807 non-null float64\n",
      "V4        284807 non-null float64\n",
      "V5        284807 non-null float64\n",
      "V6        284807 non-null float64\n",
      "V7        284807 non-null float64\n",
      "V8        284807 non-null float64\n",
      "V9        284807 non-null float64\n",
      "V10       284807 non-null float64\n",
      "V11       284807 non-null float64\n",
      "V12       284807 non-null float64\n",
      "V13       284807 non-null float64\n",
      "V14       284807 non-null float64\n",
      "V15       284807 non-null float64\n",
      "V16       284807 non-null float64\n",
      "V17       284807 non-null float64\n",
      "V18       284807 non-null float64\n",
      "V19       284807 non-null float64\n",
      "V20       284807 non-null float64\n",
      "V21       284807 non-null float64\n",
      "V22       284807 non-null float64\n",
      "V23       284807 non-null float64\n",
      "V24       284807 non-null float64\n",
      "V25       284807 non-null float64\n",
      "V26       284807 non-null float64\n",
      "V27       284807 non-null float64\n",
      "V28       284807 non-null float64\n",
      "Amount    284807 non-null float64\n",
      "Class     284807 non-null int64\n",
      "dtypes: float64(30), int64(1)\n",
      "memory usage: 67.4 MB\n"
     ]
    }
   ],
   "source": [
    "# Data types of every columns\n",
    "df.info()"
   ]
  },
  {
   "cell_type": "code",
   "execution_count": 6,
   "metadata": {},
   "outputs": [
    {
     "data": {
      "text/plain": [
       "Time      0\n",
       "V1        0\n",
       "V2        0\n",
       "V3        0\n",
       "V4        0\n",
       "V5        0\n",
       "V6        0\n",
       "V7        0\n",
       "V8        0\n",
       "V9        0\n",
       "V10       0\n",
       "V11       0\n",
       "V12       0\n",
       "V13       0\n",
       "V14       0\n",
       "V15       0\n",
       "V16       0\n",
       "V17       0\n",
       "V18       0\n",
       "V19       0\n",
       "V20       0\n",
       "V21       0\n",
       "V22       0\n",
       "V23       0\n",
       "V24       0\n",
       "V25       0\n",
       "V26       0\n",
       "V27       0\n",
       "V28       0\n",
       "Amount    0\n",
       "Class     0\n",
       "dtype: int64"
      ]
     },
     "execution_count": 6,
     "metadata": {},
     "output_type": "execute_result"
    }
   ],
   "source": [
    "# Checking the count of null values across columns\n",
    "df.isnull().sum()"
   ]
  },
  {
   "cell_type": "markdown",
   "metadata": {},
   "source": [
    "There are no null values present in the data.\n",
    "\n",
    "Also we cannot check for duplicates as our data doesn't have any unique identifier."
   ]
  },
  {
   "cell_type": "markdown",
   "metadata": {},
   "source": [
    "Here we will observe the distribution of our classes"
   ]
  },
  {
   "cell_type": "code",
   "execution_count": 7,
   "metadata": {},
   "outputs": [
    {
     "name": "stdout",
     "output_type": "stream",
     "text": [
      "99.82725143693798\n",
      "0.1727485630620034\n"
     ]
    }
   ],
   "source": [
    "# Distribution of non-frauds - frauds\n",
    "classes=df['Class'].value_counts()\n",
    "normal_share=classes[0]/df['Class'].count()*100\n",
    "fraud_share=classes[1]/df['Class'].count()*100\n",
    "print(normal_share)\n",
    "print(fraud_share)"
   ]
  },
  {
   "cell_type": "markdown",
   "metadata": {},
   "source": [
    "We've a highly imbalance dataset were fraud cases are just 0.17%"
   ]
  },
  {
   "cell_type": "code",
   "execution_count": 8,
   "metadata": {},
   "outputs": [
    {
     "data": {
      "image/png": "[encoded data removed]",
      "text/plain": [
       "<Figure size 432x288 with 1 Axes>"
      ]
     },
     "metadata": {
      "needs_background": "light"
     },
     "output_type": "display_data"
    }
   ],
   "source": [
    "# Bar plot for the number and percentage of fraudulent vs non-fraudulent transcations\n",
    "sns.countplot(data = df,x ='Class', hue = 'Class')\n",
    "plt.show()"
   ]
  },
  {
   "cell_type": "code",
   "execution_count": 9,
   "metadata": {},
   "outputs": [
    {
     "data": {
      "image/png": "[encoded data removed]",
      "text/plain": [
       "<Figure size 432x288 with 1 Axes>"
      ]
     },
     "metadata": {
      "needs_background": "light"
     },
     "output_type": "display_data"
    }
   ],
   "source": [
    "sns.barplot(data = df, x = 'Class', y = 'Class',hue = 'Class', estimator = lambda x: len(x)/len(df)*100)\n",
    "plt.show()"
   ]
  },
  {
   "cell_type": "code",
   "execution_count": 10,
   "metadata": {},
   "outputs": [
    {
     "data": {
      "image/png": "[encoded data removed]",
      "text/plain": [
       "<Figure size 432x288 with 1 Axes>"
      ]
     },
     "metadata": {
      "needs_background": "light"
     },
     "output_type": "display_data"
    }
   ],
   "source": [
    "# Create a scatter plot to observe the distribution of classes with time\n",
    "sns.scatterplot(x = 'Class', y = 'Time', data = df)\n",
    "plt.show()"
   ]
  },
  {
   "cell_type": "code",
   "execution_count": 11,
   "metadata": {},
   "outputs": [
    {
     "data": {
      "image/png": "[encoded data removed]",
      "text/plain": [
       "<Figure size 432x288 with 1 Axes>"
      ]
     },
     "metadata": {
      "needs_background": "light"
     },
     "output_type": "display_data"
    }
   ],
   "source": [
    "# Create a scatter plot to observe the distribution of classes with Amount\n",
    "sns.scatterplot(x = 'Class', y = 'Amount', data = df)\n",
    "plt.show()"
   ]
  },
  {
   "cell_type": "code",
   "execution_count": 12,
   "metadata": {},
   "outputs": [],
   "source": [
    "# Dropping 'Time' column as it denotes the time of transaction from the first transaction\n",
    "# and has no relation with the outcome\n",
    "df.drop(['Time'], axis = 1, inplace = True)"
   ]
  },
  {
   "cell_type": "markdown",
   "metadata": {},
   "source": [
    "### Splitting the data into train & test data"
   ]
  },
  {
   "cell_type": "code",
   "execution_count": 13,
   "metadata": {},
   "outputs": [],
   "source": [
    "# Dividing the data into independent and dependent dataframes\n",
    "y= df['Class']\n",
    "X = df.drop(['Class'], axis = 1)"
   ]
  },
  {
   "cell_type": "code",
   "execution_count": 14,
   "metadata": {},
   "outputs": [],
   "source": [
    "# Importing library to split the dataset into training and testing sets\n",
    "from sklearn.model_selection import train_test_split\n",
    "\n",
    "X_train, X_test, y_train, y_test = train_test_split(X, y,stratify = y , train_size = 0.7, test_size = 0.3, random_state = 100)"
   ]
  },
  {
   "cell_type": "markdown",
   "metadata": {},
   "source": [
    "##### Preserve X_test & y_test to evaluate on the test data once you build the model"
   ]
  },
  {
   "cell_type": "code",
   "execution_count": 15,
   "metadata": {},
   "outputs": [
    {
     "name": "stdout",
     "output_type": "stream",
     "text": [
      "492\n",
      "344\n",
      "148\n"
     ]
    }
   ],
   "source": [
    "dependent_test = X_test.copy()\n",
    "independent_test = y_test.copy()\n",
    "print(np.sum(y))\n",
    "print(np.sum(y_train))\n",
    "print(np.sum(y_test))"
   ]
  },
  {
   "cell_type": "markdown",
   "metadata": {},
   "source": [
    "#### Scaling"
   ]
  },
  {
   "cell_type": "code",
   "execution_count": 16,
   "metadata": {},
   "outputs": [],
   "source": [
    "# Importing Standard Scaler\n",
    "from sklearn.preprocessing import StandardScaler\n",
    "scaler = StandardScaler()"
   ]
  },
  {
   "cell_type": "code",
   "execution_count": 17,
   "metadata": {},
   "outputs": [],
   "source": [
    "# Scaling 'Amount' feature\n",
    "var = ['Amount']\n",
    "X_train[var] = scaler.fit_transform(X_train[var])\n",
    "X_test[var] = scaler.transform(X_test[var])"
   ]
  },
  {
   "cell_type": "markdown",
   "metadata": {},
   "source": [
    "### Plotting the distribution of a variable"
   ]
  },
  {
   "cell_type": "code",
   "execution_count": 18,
   "metadata": {
    "scrolled": false
   },
   "outputs": [
    {
     "data": {
      "text/plain": [
       "<matplotlib.axes._subplots.AxesSubplot at 0x1a1ef10ed0>"
      ]
     },
     "execution_count": 18,
     "metadata": {},
     "output_type": "execute_result"
    },
    {
     "data": {
      "image/png": "[encoded data removed]",
      "text/plain": [
       "<Figure size 432x288 with 1 Axes>"
      ]
     },
     "metadata": {
      "needs_background": "light"
     },
     "output_type": "display_data"
    }
   ],
   "source": [
    "# histogram of a variable from the dataset to see the skewness\n",
    "sns.distplot(df['V4'])"
   ]
  },
  {
   "cell_type": "code",
   "execution_count": 19,
   "metadata": {},
   "outputs": [],
   "source": [
    "# Dropping 'Class' feature\n",
    "col = df.drop(['Class'], axis = 1)"
   ]
  },
  {
   "cell_type": "code",
   "execution_count": 20,
   "metadata": {},
   "outputs": [
    {
     "data": {
      "text/plain": [
       "Index(['V1', 'V2', 'V3', 'V4', 'V5', 'V6', 'V7', 'V8', 'V9', 'V10', 'V11',\n",
       "       'V12', 'V13', 'V14', 'V15', 'V16', 'V17', 'V18', 'V19', 'V20', 'V21',\n",
       "       'V22', 'V23', 'V24', 'V25', 'V26', 'V27', 'V28', 'Amount'],\n",
       "      dtype='object')"
      ]
     },
     "execution_count": 20,
     "metadata": {},
     "output_type": "execute_result"
    }
   ],
   "source": [
    "# Storing column headers\n",
    "cols = col.columns\n",
    "cols"
   ]
  },
  {
   "cell_type": "markdown",
   "metadata": {},
   "source": [
    "### If there is skewness present in the distribution use:\n",
    "- <b>Power Transformer</b> package present in the <b>preprocessing library provided by sklearn</b> to make distribution more gaussian"
   ]
  },
  {
   "cell_type": "code",
   "execution_count": 21,
   "metadata": {},
   "outputs": [],
   "source": [
    "# - Apply : preprocessing.PowerTransformer(copy=False) to fit & transform the train & test data\n",
    "from sklearn.preprocessing import PowerTransformer\n",
    "pt = PowerTransformer(method='yeo-johnson', standardize=True)\n",
    "X_train_yeo = pt.fit_transform(X_train)\n",
    "X_test_yeo = pt.transform(X_test)"
   ]
  },
  {
   "cell_type": "code",
   "execution_count": 22,
   "metadata": {},
   "outputs": [],
   "source": [
    "X_train_pt = pd.DataFrame(data = X_train_yeo, columns = cols)\n",
    "X_test_pt = pd.DataFrame(data = X_test_yeo, columns = cols)"
   ]
  },
  {
   "cell_type": "code",
   "execution_count": 23,
   "metadata": {},
   "outputs": [
    {
     "data": {
      "text/plain": [
       "<matplotlib.axes._subplots.AxesSubplot at 0x1a1f0afb50>"
      ]
     },
     "execution_count": 23,
     "metadata": {},
     "output_type": "execute_result"
    },
    {
     "data": {
      "image/png": "[encoded data removed]",
      "text/plain": [
       "<Figure size 432x288 with 1 Axes>"
      ]
     },
     "metadata": {
      "needs_background": "light"
     },
     "output_type": "display_data"
    }
   ],
   "source": [
    "# plot the histogram of a variable from the dataset again to see the result \n",
    "sns.distplot(X_train_pt['V4'])"
   ]
  },
  {
   "cell_type": "markdown",
   "metadata": {},
   "source": [
    "## Model Building\n",
    "- Build different models on the imbalanced dataset and see the result"
   ]
  },
  {
   "cell_type": "code",
   "execution_count": 24,
   "metadata": {
    "scrolled": false
   },
   "outputs": [],
   "source": [
    "# Logistic Regression\n",
    "# Importing the various packages\n",
    "from sklearn.linear_model import LogisticRegression\n",
    "from sklearn.model_selection import StratifiedKFold\n",
    "from sklearn.model_selection import GridSearchCV\n",
    "from sklearn.metrics import confusion_matrix\n",
    "from sklearn.metrics import classification_report\n",
    "\n",
    "# Defining regularisation parameters\n",
    "num_C = {'C':np.logspace(-3,3,7), 'penalty':['l1','l2']}\n",
    "\n",
    "# Defining total number of folds\n",
    "cv_num = StratifiedKFold(n_splits = 5, shuffle = True, random_state = 100)"
   ]
  },
  {
   "cell_type": "markdown",
   "metadata": {},
   "source": [
    "#### perfom cross validation on the X_train & y_train to create:\n",
    "- X_train_cv\n",
    "- X_test_cv \n",
    "- y_train_cv\n",
    "- y_test_cv "
   ]
  },
  {
   "cell_type": "code",
   "execution_count": 25,
   "metadata": {},
   "outputs": [
    {
     "name": "stdout",
     "output_type": "stream",
     "text": [
      "Fitting 5 folds for each of 14 candidates, totalling 70 fits\n"
     ]
    },
    {
     "name": "stderr",
     "output_type": "stream",
     "text": [
      "[Parallel(n_jobs=-1)]: Using backend LokyBackend with 4 concurrent workers.\n",
      "[Parallel(n_jobs=-1)]: Done  42 tasks      | elapsed:   11.0s\n",
      "[Parallel(n_jobs=-1)]: Done  70 out of  70 | elapsed:   19.6s finished\n"
     ]
    },
    {
     "data": {
      "text/plain": [
       "GridSearchCV(cv=StratifiedKFold(n_splits=5, random_state=100, shuffle=True),\n",
       "             error_score=nan,\n",
       "             estimator=LogisticRegression(C=1.0, class_weight=None, dual=False,\n",
       "                                          fit_intercept=True,\n",
       "                                          intercept_scaling=1, l1_ratio=None,\n",
       "                                          max_iter=100, multi_class='auto',\n",
       "                                          n_jobs=None, penalty='l2',\n",
       "                                          random_state=None, solver='lbfgs',\n",
       "                                          tol=0.0001, verbose=0,\n",
       "                                          warm_start=False),\n",
       "             iid='deprecated', n_jobs=-1,\n",
       "             param_grid={'C': array([1.e-03, 1.e-02, 1.e-01, 1.e+00, 1.e+01, 1.e+02, 1.e+03]),\n",
       "                         'penalty': ['l1', 'l2']},\n",
       "             pre_dispatch='2*n_jobs', refit=True, return_train_score=True,\n",
       "             scoring='recall', verbose=1)"
      ]
     },
     "execution_count": 25,
     "metadata": {},
     "output_type": "execute_result"
    }
   ],
   "source": [
    "# Initiating algorithm\n",
    "model = LogisticRegression()\n",
    "\n",
    "# Defining cross-validation module\n",
    "model_cv = GridSearchCV(estimator = model, param_grid = num_C, scoring = 'recall', cv = cv_num,\n",
    "                       return_train_score = True, verbose = 1, n_jobs = -1)\n",
    "\n",
    "# Fitting data on the algorithm\n",
    "model_cv.fit(X_train_pt, y_train)"
   ]
  },
  {
   "cell_type": "code",
   "execution_count": 26,
   "metadata": {},
   "outputs": [
    {
     "name": "stdout",
     "output_type": "stream",
     "text": [
      "The highest train recall is 0.6771099744245525 at {'C': 1.0, 'penalty': 'l2'}\n"
     ]
    }
   ],
   "source": [
    "# Best recall score and hyperparameters\n",
    "best_score = model_cv.best_score_\n",
    "best_param = model_cv.best_params_\n",
    "\n",
    "print('The highest train recall is {0} at {1}'.format(best_score, best_param))"
   ]
  },
  {
   "cell_type": "code",
   "execution_count": 27,
   "metadata": {},
   "outputs": [
    {
     "data": {
      "text/plain": [
       "LogisticRegression(C=1.0, class_weight=None, dual=False, fit_intercept=True,\n",
       "                   intercept_scaling=1, l1_ratio=None, max_iter=100,\n",
       "                   multi_class='auto', n_jobs=-1, penalty='l2',\n",
       "                   random_state=None, solver='lbfgs', tol=0.0001, verbose=0,\n",
       "                   warm_start=False)"
      ]
     },
     "execution_count": 27,
     "metadata": {},
     "output_type": "execute_result"
    }
   ],
   "source": [
    "# Selecting the best hyperparameters\n",
    "model1 = LogisticRegression(C = 1.0, penalty = 'l2', n_jobs = -1)\n",
    "\n",
    "# Applying the algorithm\n",
    "model1.fit(X_train_pt, y_train)"
   ]
  },
  {
   "cell_type": "code",
   "execution_count": 28,
   "metadata": {},
   "outputs": [
    {
     "name": "stdout",
     "output_type": "stream",
     "text": [
      "              precision    recall  f1-score   support\n",
      "\n",
      "           0       1.00      1.00      1.00    199020\n",
      "           1       0.89      0.67      0.77       344\n",
      "\n",
      "    accuracy                           1.00    199364\n",
      "   macro avg       0.94      0.84      0.88    199364\n",
      "weighted avg       1.00      1.00      1.00    199364\n",
      "\n"
     ]
    }
   ],
   "source": [
    "# Predict on training data\n",
    "y_train_pred = model1.predict(X_train_pt)\n",
    "\n",
    "# Classification report\n",
    "print(classification_report(y_train, y_train_pred))"
   ]
  },
  {
   "cell_type": "code",
   "execution_count": 29,
   "metadata": {},
   "outputs": [
    {
     "name": "stdout",
     "output_type": "stream",
     "text": [
      "              precision    recall  f1-score   support\n",
      "\n",
      "           0       1.00      1.00      1.00     85295\n",
      "           1       0.84      0.63      0.72       148\n",
      "\n",
      "    accuracy                           1.00     85443\n",
      "   macro avg       0.92      0.81      0.86     85443\n",
      "weighted avg       1.00      1.00      1.00     85443\n",
      "\n"
     ]
    }
   ],
   "source": [
    "# Predictions on test data\n",
    "y_test_pred = model1.predict(X_test_pt)\n",
    "\n",
    "# Classification report on test data\n",
    "print(classification_report(y_test, y_test_pred))"
   ]
  },
  {
   "cell_type": "markdown",
   "metadata": {},
   "source": [
    "#### Random Forest"
   ]
  },
  {
   "cell_type": "code",
   "execution_count": 30,
   "metadata": {},
   "outputs": [],
   "source": [
    "# Importing required library\n",
    "from sklearn.ensemble import RandomForestClassifier\n",
    "forest = RandomForestClassifier()\n",
    "\n",
    "# hyperparameter space\n",
    "params = {'max_depth':[5,10], 'min_samples_leaf':[50,100], 'min_samples_split':[50,100], \n",
    "          'n_estimators':[100,300], 'max_features':[5,10]}\n",
    "\n",
    "# creating gridsearch object\n",
    "rf = GridSearchCV(estimator = forest, cv = 5, param_grid = params, scoring = 'roc_auc', n_jobs = -1, verbose = 1)"
   ]
  },
  {
   "cell_type": "code",
   "execution_count": 31,
   "metadata": {},
   "outputs": [],
   "source": [
    "# Since below code took more than a day and still did not get completed, we have kept it aside\n",
    "# fitting the model\n",
    "# rf.fit(X_train_pt, y_train)"
   ]
  },
  {
   "cell_type": "code",
   "execution_count": 32,
   "metadata": {},
   "outputs": [],
   "source": [
    "# to find the best hyperparameters above fit code is mandatory\n",
    "# Best AUC and hyperparameters\n",
    "# print('Best AUC:',rf.best_score_)\n",
    "# print('Best hyperparameters:',rf.best_params_)"
   ]
  },
  {
   "cell_type": "code",
   "execution_count": 33,
   "metadata": {},
   "outputs": [],
   "source": [
    "# Re-iterate the above three steps to find the optimal model by updating the hyperparameters\n",
    "# create a new model using the best hyperparameters collected from above code\n",
    "clf = RandomForestClassifier(bootstrap = True,\n",
    "                            max_depth = 20,\n",
    "                            max_features = 20,\n",
    "                            min_samples_leaf = 100,\n",
    "                            min_samples_split = 100,\n",
    "                            n_estimators = 600,\n",
    "                            n_jobs = -1,\n",
    "                            random_state = 100,\n",
    "                            verbose = 1)"
   ]
  },
  {
   "cell_type": "code",
   "execution_count": 34,
   "metadata": {},
   "outputs": [
    {
     "name": "stderr",
     "output_type": "stream",
     "text": [
      "[Parallel(n_jobs=-1)]: Using backend ThreadingBackend with 4 concurrent workers.\n",
      "[Parallel(n_jobs=-1)]: Done  42 tasks      | elapsed:  1.9min\n",
      "[Parallel(n_jobs=-1)]: Done 192 tasks      | elapsed:  8.9min\n",
      "[Parallel(n_jobs=-1)]: Done 442 tasks      | elapsed: 20.2min\n",
      "[Parallel(n_jobs=-1)]: Done 600 out of 600 | elapsed: 27.6min finished\n"
     ]
    },
    {
     "data": {
      "text/plain": [
       "RandomForestClassifier(bootstrap=True, ccp_alpha=0.0, class_weight=None,\n",
       "                       criterion='gini', max_depth=20, max_features=20,\n",
       "                       max_leaf_nodes=None, max_samples=None,\n",
       "                       min_impurity_decrease=0.0, min_impurity_split=None,\n",
       "                       min_samples_leaf=100, min_samples_split=100,\n",
       "                       min_weight_fraction_leaf=0.0, n_estimators=600,\n",
       "                       n_jobs=-1, oob_score=False, random_state=100, verbose=1,\n",
       "                       warm_start=False)"
      ]
     },
     "execution_count": 34,
     "metadata": {},
     "output_type": "execute_result"
    }
   ],
   "source": [
    "# Applying model\n",
    "clf.fit(X_train_pt, y_train)"
   ]
  },
  {
   "cell_type": "code",
   "execution_count": 35,
   "metadata": {},
   "outputs": [
    {
     "name": "stderr",
     "output_type": "stream",
     "text": [
      "[Parallel(n_jobs=4)]: Using backend ThreadingBackend with 4 concurrent workers.\n",
      "[Parallel(n_jobs=4)]: Done  42 tasks      | elapsed:    0.1s\n",
      "[Parallel(n_jobs=4)]: Done 192 tasks      | elapsed:    0.7s\n",
      "[Parallel(n_jobs=4)]: Done 442 tasks      | elapsed:    1.6s\n",
      "[Parallel(n_jobs=4)]: Done 600 out of 600 | elapsed:    2.3s finished\n"
     ]
    }
   ],
   "source": [
    "# Predictions on test data\n",
    "y_test_pred = clf.predict(X_test_pt)"
   ]
  },
  {
   "cell_type": "code",
   "execution_count": 36,
   "metadata": {},
   "outputs": [
    {
     "name": "stderr",
     "output_type": "stream",
     "text": [
      "[Parallel(n_jobs=4)]: Using backend ThreadingBackend with 4 concurrent workers.\n",
      "[Parallel(n_jobs=4)]: Done  42 tasks      | elapsed:    0.4s\n",
      "[Parallel(n_jobs=4)]: Done 192 tasks      | elapsed:    1.8s\n",
      "[Parallel(n_jobs=4)]: Done 442 tasks      | elapsed:    3.9s\n",
      "[Parallel(n_jobs=4)]: Done 600 out of 600 | elapsed:    5.2s finished\n"
     ]
    }
   ],
   "source": [
    "# Predictions on training data\n",
    "y_train_pred = clf.predict(X_train_pt)"
   ]
  },
  {
   "cell_type": "code",
   "execution_count": 37,
   "metadata": {},
   "outputs": [
    {
     "name": "stdout",
     "output_type": "stream",
     "text": [
      "              precision    recall  f1-score   support\n",
      "\n",
      "           0       1.00      1.00      1.00    199020\n",
      "           1       0.82      0.67      0.74       344\n",
      "\n",
      "    accuracy                           1.00    199364\n",
      "   macro avg       0.91      0.83      0.87    199364\n",
      "weighted avg       1.00      1.00      1.00    199364\n",
      "\n"
     ]
    }
   ],
   "source": [
    "# Classification report on training data\n",
    "print(classification_report(y_train, y_train_pred))"
   ]
  },
  {
   "cell_type": "code",
   "execution_count": 38,
   "metadata": {},
   "outputs": [
    {
     "name": "stdout",
     "output_type": "stream",
     "text": [
      "              precision    recall  f1-score   support\n",
      "\n",
      "           0       1.00      1.00      1.00     85295\n",
      "           1       0.73      0.66      0.69       148\n",
      "\n",
      "    accuracy                           1.00     85443\n",
      "   macro avg       0.86      0.83      0.84     85443\n",
      "weighted avg       1.00      1.00      1.00     85443\n",
      "\n"
     ]
    }
   ],
   "source": [
    "# Classification report on test data\n",
    "print(classification_report(y_test, y_test_pred))"
   ]
  },
  {
   "cell_type": "code",
   "execution_count": 39,
   "metadata": {},
   "outputs": [
    {
     "data": {
      "text/plain": [
       "<matplotlib.legend.Legend at 0x1a21daa390>"
      ]
     },
     "execution_count": 39,
     "metadata": {},
     "output_type": "execute_result"
    },
    {
     "data": {
      "image/png": "[encoded data removed]",
      "text/plain": [
       "<Figure size 432x288 with 1 Axes>"
      ]
     },
     "metadata": {
      "needs_background": "light"
     },
     "output_type": "display_data"
    }
   ],
   "source": [
    "# XGBoost\n",
    "# Importing library\n",
    "from xgboost import XGBClassifier\n",
    "\n",
    "tree_range = range(1, 50, 5)\n",
    "score1 = []\n",
    "score2 = []\n",
    "for tree in tree_range:\n",
    "    xgb = XGBClassifier(n_estimators = tree)\n",
    "    xgb.fit(X_train_pt, y_train)\n",
    "    score1.append(xgb.score(X_train_pt, y_train))\n",
    "    score2.append(xgb.score(X_test_pt, y_test))\n",
    "    \n",
    "%matplotlib inline\n",
    "plt.plot(tree_range, score1, label = 'Accuracy on training set')\n",
    "plt.plot(tree_range, score2, label = 'Accuracy on testing set')\n",
    "plt.xlabel('Value of number of trees in XGBoost')\n",
    "plt.ylabel('Accuracy')\n",
    "plt.legend()"
   ]
  },
  {
   "cell_type": "code",
   "execution_count": 40,
   "metadata": {},
   "outputs": [
    {
     "name": "stdout",
     "output_type": "stream",
     "text": [
      "Accuracy of xgb on the testing data is :0.999\n"
     ]
    }
   ],
   "source": [
    "clf = XGBClassifier(n_estimators = 40)\n",
    "clf.fit(X_train_pt, y_train)\n",
    "print('Accuracy of xgb on the testing data is :{:.3f}'.format(clf.score(X_test_pt, y_test)))"
   ]
  },
  {
   "cell_type": "code",
   "execution_count": 41,
   "metadata": {
    "scrolled": false
   },
   "outputs": [
    {
     "name": "stdout",
     "output_type": "stream",
     "text": [
      "              precision    recall  f1-score   support\n",
      "\n",
      "           0       1.00      1.00      1.00    199020\n",
      "           1       0.91      0.82      0.86       344\n",
      "\n",
      "    accuracy                           1.00    199364\n",
      "   macro avg       0.95      0.91      0.93    199364\n",
      "weighted avg       1.00      1.00      1.00    199364\n",
      "\n",
      "              precision    recall  f1-score   support\n",
      "\n",
      "           0       1.00      1.00      1.00     85295\n",
      "           1       0.82      0.73      0.77       148\n",
      "\n",
      "    accuracy                           1.00     85443\n",
      "   macro avg       0.91      0.86      0.89     85443\n",
      "weighted avg       1.00      1.00      1.00     85443\n",
      "\n"
     ]
    }
   ],
   "source": [
    "# Predictions on train set\n",
    "y_train_pred = clf.predict(X_train_pt)\n",
    "\n",
    "# Classification report on train set\n",
    "print(classification_report(y_train, y_train_pred))\n",
    "\n",
    "# Predictions on test set\n",
    "y_test_pred = clf.predict(X_test_pt)\n",
    "\n",
    "# Classification report on test set\n",
    "print(classification_report(y_test, y_test_pred))"
   ]
  },
  {
   "cell_type": "markdown",
   "metadata": {},
   "source": [
    "### Print the important features of the best model to understand the dataset\n",
    "- This will not give much explanation on the already transformed dataset\n",
    "- But it will help us in understanding if the dataset is not PCA transformed"
   ]
  },
  {
   "cell_type": "code",
   "execution_count": 42,
   "metadata": {},
   "outputs": [
    {
     "name": "stdout",
     "output_type": "stream",
     "text": [
      "Top var = 17\n",
      "2nd Top var = 14\n",
      "3rd Top var = 10\n"
     ]
    },
    {
     "data": {
      "text/plain": [
       "<matplotlib.legend.Legend at 0x1a1e2e8f90>"
      ]
     },
     "execution_count": 42,
     "metadata": {},
     "output_type": "execute_result"
    },
    {
     "data": {
      "image/png": "[encoded data removed]",
      "text/plain": [
       "<Figure size 1440x1440 with 1 Axes>"
      ]
     },
     "metadata": {
      "needs_background": "light"
     },
     "output_type": "display_data"
    }
   ],
   "source": [
    "var_imp = []\n",
    "for i in clf.feature_importances_:\n",
    "    var_imp.append(i)\n",
    "print('Top var =', var_imp.index(np.sort(clf.feature_importances_)[-1])+1)\n",
    "print('2nd Top var =', var_imp.index(np.sort(clf.feature_importances_)[-2])+1)\n",
    "print('3rd Top var =', var_imp.index(np.sort(clf.feature_importances_)[-3])+1)\n",
    "\n",
    "# Variable on Index-16 and Index-13 seems to be the top 2 variables\n",
    "top_var_index = var_imp.index(np.sort(clf.feature_importances_)[-1])\n",
    "second_top_var_index = var_imp.index(np.sort(clf.feature_importances_)[-2])\n",
    "\n",
    "X_train_1 = X_train.to_numpy()[np.where(y_train==1.0)]\n",
    "X_train_0 = X_train.to_numpy()[np.where(y_train==0.0)]\n",
    "\n",
    "np.random.shuffle(X_train_0)\n",
    "\n",
    "import matplotlib.pyplot as plt\n",
    "%matplotlib inline\n",
    "plt.rcParams['figure.figsize'] = [20, 20]\n",
    "\n",
    "plt.scatter(X_train_1[:, top_var_index], X_train_1[:, second_top_var_index], label='Actual Class-1 Examples')\n",
    "plt.scatter(X_train_0[:X_train_1.shape[0], top_var_index], X_train_0[:X_train_1.shape[0], second_top_var_index],\n",
    "            label='Actual Class-0 Examples')\n",
    "plt.legend()"
   ]
  },
  {
   "cell_type": "markdown",
   "metadata": {},
   "source": [
    "## Model building with balancing Classes\n",
    "\n",
    "##### Perform class balancing with :\n",
    "- Random Oversampling\n",
    "- SMOTE\n",
    "- ADASYN"
   ]
  },
  {
   "cell_type": "markdown",
   "metadata": {},
   "source": [
    "## Model Building\n",
    "- Build different models on the balanced dataset and see the result"
   ]
  },
  {
   "cell_type": "code",
   "execution_count": 43,
   "metadata": {},
   "outputs": [],
   "source": [
    "# Logistic Regression\n",
    "logm = LogisticRegression()\n",
    "\n",
    "num_C = {'C':np.logspace(-3,3,7), 'penalty':['l1','l2']}\n",
    "cv_num = StratifiedKFold(n_splits = 5, shuffle = True, random_state = 100)"
   ]
  },
  {
   "cell_type": "markdown",
   "metadata": {},
   "source": [
    "#### perfom cross validation on the X_train & y_train to create:\n",
    "- X_train_cv\n",
    "- X_test_cv \n",
    "- y_train_cv\n",
    "- y_test_cv "
   ]
  },
  {
   "cell_type": "markdown",
   "metadata": {},
   "source": [
    "### Random Oversampling"
   ]
  },
  {
   "cell_type": "code",
   "execution_count": 44,
   "metadata": {
    "scrolled": true
   },
   "outputs": [
    {
     "name": "stderr",
     "output_type": "stream",
     "text": [
      "Using TensorFlow backend.\n"
     ]
    }
   ],
   "source": [
    "# importing over sampling package\n",
    "from imblearn.over_sampling import RandomOverSampler\n",
    "ros = RandomOverSampler(random_state= 42)\n",
    "\n",
    "# Applying over sampling\n",
    "X_train_ros, y_train_ros = ros.fit_resample(X_train_pt, y_train)"
   ]
  },
  {
   "cell_type": "code",
   "execution_count": 45,
   "metadata": {},
   "outputs": [
    {
     "name": "stdout",
     "output_type": "stream",
     "text": [
      "Fitting 5 folds for each of 14 candidates, totalling 70 fits\n"
     ]
    },
    {
     "name": "stderr",
     "output_type": "stream",
     "text": [
      "[Parallel(n_jobs=-1)]: Using backend LokyBackend with 4 concurrent workers.\n",
      "[Parallel(n_jobs=-1)]: Done  42 tasks      | elapsed:   22.2s\n",
      "[Parallel(n_jobs=-1)]: Done  70 out of  70 | elapsed:   39.4s finished\n"
     ]
    },
    {
     "data": {
      "text/plain": [
       "GridSearchCV(cv=StratifiedKFold(n_splits=5, random_state=100, shuffle=True),\n",
       "             error_score=nan,\n",
       "             estimator=LogisticRegression(C=1.0, class_weight=None, dual=False,\n",
       "                                          fit_intercept=True,\n",
       "                                          intercept_scaling=1, l1_ratio=None,\n",
       "                                          max_iter=100, multi_class='auto',\n",
       "                                          n_jobs=None, penalty='l2',\n",
       "                                          random_state=None, solver='lbfgs',\n",
       "                                          tol=0.0001, verbose=0,\n",
       "                                          warm_start=False),\n",
       "             iid='deprecated', n_jobs=-1,\n",
       "             param_grid={'C': array([1.e-03, 1.e-02, 1.e-01, 1.e+00, 1.e+01, 1.e+02, 1.e+03]),\n",
       "                         'penalty': ['l1', 'l2']},\n",
       "             pre_dispatch='2*n_jobs', refit=True, return_train_score=True,\n",
       "             scoring='recall', verbose=1)"
      ]
     },
     "execution_count": 45,
     "metadata": {},
     "output_type": "execute_result"
    }
   ],
   "source": [
    "# Defining cross-validation module\n",
    "logm_cv = GridSearchCV(estimator = logm, param_grid = num_C, scoring = 'recall', cv = cv_num,\n",
    "                       return_train_score = True, verbose = 1, n_jobs = -1)\n",
    "\n",
    "# Fitting data on the algorithm\n",
    "logm_cv.fit(X_train_ros, y_train_ros)"
   ]
  },
  {
   "cell_type": "code",
   "execution_count": 46,
   "metadata": {},
   "outputs": [
    {
     "name": "stdout",
     "output_type": "stream",
     "text": [
      "The highest train recall is 0.9290523565470806 at {'C': 0.01, 'penalty': 'l2'}\n"
     ]
    }
   ],
   "source": [
    "# Best recall score and hyperparameters\n",
    "best_score = logm_cv.best_score_\n",
    "best_param = logm_cv.best_params_\n",
    "\n",
    "print('The highest train recall is {0} at {1}'.format(best_score, best_param))"
   ]
  },
  {
   "cell_type": "code",
   "execution_count": 47,
   "metadata": {},
   "outputs": [
    {
     "name": "stdout",
     "output_type": "stream",
     "text": [
      "              precision    recall  f1-score   support\n",
      "\n",
      "           0       0.93      0.98      0.95    199020\n",
      "           1       0.97      0.93      0.95    199020\n",
      "\n",
      "    accuracy                           0.95    398040\n",
      "   macro avg       0.95      0.95      0.95    398040\n",
      "weighted avg       0.95      0.95      0.95    398040\n",
      "\n"
     ]
    }
   ],
   "source": [
    "# Defining model with optimal hyperparameters\n",
    "logm1 = LogisticRegression(C = 0.01, penalty = 'l2')\n",
    "\n",
    "# Fitting the model\n",
    "logm1.fit(X_train_ros, y_train_ros)\n",
    "\n",
    "# Prediction on training data\n",
    "y_train_pred = logm1.predict(X_train_ros)\n",
    "\n",
    "# Classification report on training data\n",
    "print(classification_report(y_train_ros, y_train_pred))"
   ]
  },
  {
   "cell_type": "code",
   "execution_count": 48,
   "metadata": {},
   "outputs": [
    {
     "name": "stdout",
     "output_type": "stream",
     "text": [
      "              precision    recall  f1-score   support\n",
      "\n",
      "           0       1.00      0.98      0.99     85295\n",
      "           1       0.06      0.89      0.11       148\n",
      "\n",
      "    accuracy                           0.98     85443\n",
      "   macro avg       0.53      0.93      0.55     85443\n",
      "weighted avg       1.00      0.98      0.99     85443\n",
      "\n"
     ]
    }
   ],
   "source": [
    "# Predictions on test set\n",
    "y_test_pred = logm1.predict(X_test_pt)\n",
    "\n",
    "# Classification report on testing data\n",
    "print(classification_report(y_test, y_test_pred))"
   ]
  },
  {
   "cell_type": "code",
   "execution_count": 49,
   "metadata": {},
   "outputs": [
    {
     "data": {
      "text/plain": [
       "<matplotlib.legend.Legend at 0x119fedd90>"
      ]
     },
     "execution_count": 49,
     "metadata": {},
     "output_type": "execute_result"
    },
    {
     "data": {
      "image/png": "[encoded data removed]",
      "text/plain": [
       "<Figure size 432x288 with 1 Axes>"
      ]
     },
     "metadata": {
      "needs_background": "light"
     },
     "output_type": "display_data"
    }
   ],
   "source": [
    "# XGBoost\n",
    "\n",
    "tree_range = range(1, 50, 5)\n",
    "score1 = []\n",
    "score2 = []\n",
    "for tree in tree_range:\n",
    "    xgb = XGBClassifier(n_estimators = tree)\n",
    "    xgb.fit(X_train_ros, y_train_ros)\n",
    "    score1.append(xgb.score(X_train_ros, y_train_ros))\n",
    "    score2.append(xgb.score(X_test_pt, y_test))\n",
    "    \n",
    "%matplotlib inline\n",
    "plt.plot(tree_range, score1, label = 'Accuracy on training set')\n",
    "plt.plot(tree_range, score2, label = 'Accuracy on testing set')\n",
    "plt.xlabel('Value of number of trees in XGBoost')\n",
    "plt.ylabel('Accuracy')\n",
    "plt.legend()"
   ]
  },
  {
   "cell_type": "code",
   "execution_count": 50,
   "metadata": {},
   "outputs": [
    {
     "name": "stdout",
     "output_type": "stream",
     "text": [
      "Accuracy of xgb on the testing data is :0.989\n"
     ]
    }
   ],
   "source": [
    "clf = XGBClassifier(n_estimators = 50)\n",
    "clf.fit(X_train_ros, y_train_ros)\n",
    "print('Accuracy of xgb on the testing data is :{:.3f}'.format(clf.score(X_test_pt, y_test)))"
   ]
  },
  {
   "cell_type": "code",
   "execution_count": 51,
   "metadata": {},
   "outputs": [
    {
     "name": "stdout",
     "output_type": "stream",
     "text": [
      "              precision    recall  f1-score   support\n",
      "\n",
      "           0       0.98      0.99      0.98    199020\n",
      "           1       0.99      0.98      0.98    199020\n",
      "\n",
      "    accuracy                           0.98    398040\n",
      "   macro avg       0.98      0.98      0.98    398040\n",
      "weighted avg       0.98      0.98      0.98    398040\n",
      "\n",
      "              precision    recall  f1-score   support\n",
      "\n",
      "           0       1.00      0.99      0.99     85295\n",
      "           1       0.12      0.86      0.22       148\n",
      "\n",
      "    accuracy                           0.99     85443\n",
      "   macro avg       0.56      0.93      0.61     85443\n",
      "weighted avg       1.00      0.99      0.99     85443\n",
      "\n"
     ]
    }
   ],
   "source": [
    "# Predictions on train data\n",
    "y_train_pred = clf.predict(X_train_ros)\n",
    "\n",
    "# Classification report\n",
    "print(classification_report(y_train_ros, y_train_pred))\n",
    "\n",
    "# Predictions on test data\n",
    "y_test_pred = clf.predict(X_test_pt)\n",
    "\n",
    "# Classification report\n",
    "print(classification_report(y_test, y_test_pred))"
   ]
  },
  {
   "cell_type": "markdown",
   "metadata": {},
   "source": [
    "With OverSampling technique, it's the Logistic Regression which performs better while XGBoost is also good. However we're looking for a better recall score which is given by Logistic Regression."
   ]
  },
  {
   "cell_type": "markdown",
   "metadata": {},
   "source": [
    "### Print the class distribution after applying SMOTE "
   ]
  },
  {
   "cell_type": "code",
   "execution_count": 52,
   "metadata": {},
   "outputs": [],
   "source": [
    "# Importing SMOTE\n",
    "from imblearn.over_sampling import SMOTE\n",
    "\n",
    "# Initiating the algorithm\n",
    "sm = SMOTE(random_state=0)\n",
    "X_train_smote, y_train_smote = sm.fit_resample(X_train_pt, y_train)"
   ]
  },
  {
   "cell_type": "code",
   "execution_count": 53,
   "metadata": {},
   "outputs": [
    {
     "data": {
      "text/plain": [
       "1    199020\n",
       "0    199020\n",
       "Name: Class, dtype: int64"
      ]
     },
     "execution_count": 53,
     "metadata": {},
     "output_type": "execute_result"
    }
   ],
   "source": [
    "y_train_smote.value_counts()"
   ]
  },
  {
   "cell_type": "markdown",
   "metadata": {},
   "source": [
    "We can see that post applying smote to our training data, we've equal number of both the cases."
   ]
  },
  {
   "cell_type": "code",
   "execution_count": 54,
   "metadata": {},
   "outputs": [],
   "source": [
    "log_sm = LogisticRegression()\n",
    "\n",
    "num_C = {'C':np.logspace(-3,3,7), 'penalty':['l1','l2']}\n",
    "cv_num = StratifiedKFold(n_splits = 5, shuffle = True, random_state = 100)"
   ]
  },
  {
   "cell_type": "code",
   "execution_count": 55,
   "metadata": {},
   "outputs": [
    {
     "name": "stdout",
     "output_type": "stream",
     "text": [
      "Fitting 5 folds for each of 14 candidates, totalling 70 fits\n"
     ]
    },
    {
     "name": "stderr",
     "output_type": "stream",
     "text": [
      "[Parallel(n_jobs=-1)]: Using backend LokyBackend with 4 concurrent workers.\n",
      "[Parallel(n_jobs=-1)]: Done  42 tasks      | elapsed:   22.2s\n",
      "[Parallel(n_jobs=-1)]: Done  70 out of  70 | elapsed:   37.1s finished\n"
     ]
    },
    {
     "data": {
      "text/plain": [
       "GridSearchCV(cv=StratifiedKFold(n_splits=5, random_state=100, shuffle=True),\n",
       "             error_score=nan,\n",
       "             estimator=LogisticRegression(C=1.0, class_weight=None, dual=False,\n",
       "                                          fit_intercept=True,\n",
       "                                          intercept_scaling=1, l1_ratio=None,\n",
       "                                          max_iter=100, multi_class='auto',\n",
       "                                          n_jobs=None, penalty='l2',\n",
       "                                          random_state=None, solver='lbfgs',\n",
       "                                          tol=0.0001, verbose=0,\n",
       "                                          warm_start=False),\n",
       "             iid='deprecated', n_jobs=-1,\n",
       "             param_grid={'C': array([1.e-03, 1.e-02, 1.e-01, 1.e+00, 1.e+01, 1.e+02, 1.e+03]),\n",
       "                         'penalty': ['l1', 'l2']},\n",
       "             pre_dispatch='2*n_jobs', refit=True, return_train_score=True,\n",
       "             scoring='recall', verbose=1)"
      ]
     },
     "execution_count": 55,
     "metadata": {},
     "output_type": "execute_result"
    }
   ],
   "source": [
    "# Defining cross-validation module\n",
    "log_sm_cv = GridSearchCV(estimator = log_sm, param_grid = num_C, scoring = 'recall', cv = cv_num,\n",
    "                       return_train_score = True, verbose = 1, n_jobs = -1)\n",
    "\n",
    "# Fitting data on the algorithm\n",
    "log_sm_cv.fit(X_train_smote, y_train_smote)"
   ]
  },
  {
   "cell_type": "code",
   "execution_count": 56,
   "metadata": {},
   "outputs": [
    {
     "name": "stdout",
     "output_type": "stream",
     "text": [
      "The highest train recall is 0.9263591598834289 at {'C': 10.0, 'penalty': 'l2'}\n"
     ]
    }
   ],
   "source": [
    "# Best recall score and hyperparameters\n",
    "best_score = log_sm_cv.best_score_\n",
    "best_param = log_sm_cv.best_params_\n",
    "\n",
    "print('The highest train recall is {0} at {1}'.format(best_score, best_param))"
   ]
  },
  {
   "cell_type": "code",
   "execution_count": 57,
   "metadata": {},
   "outputs": [
    {
     "name": "stdout",
     "output_type": "stream",
     "text": [
      "              precision    recall  f1-score   support\n",
      "\n",
      "           0       0.93      0.97      0.95    199020\n",
      "           1       0.97      0.93      0.95    199020\n",
      "\n",
      "    accuracy                           0.95    398040\n",
      "   macro avg       0.95      0.95      0.95    398040\n",
      "weighted avg       0.95      0.95      0.95    398040\n",
      "\n"
     ]
    }
   ],
   "source": [
    "# Defining model with optimal hyperparameters\n",
    "log_sm1 = LogisticRegression(C = 10, penalty = 'l2')\n",
    "\n",
    "# Fitting the model\n",
    "log_sm1.fit(X_train_smote, y_train_smote)\n",
    "\n",
    "# Prediction on training data\n",
    "y_train_pred = log_sm1.predict(X_train_smote)\n",
    "\n",
    "# Classification report on training data\n",
    "print(classification_report(y_train_smote, y_train_pred))"
   ]
  },
  {
   "cell_type": "code",
   "execution_count": 58,
   "metadata": {},
   "outputs": [
    {
     "name": "stdout",
     "output_type": "stream",
     "text": [
      "              precision    recall  f1-score   support\n",
      "\n",
      "           0       1.00      0.97      0.99     85295\n",
      "           1       0.06      0.89      0.11       148\n",
      "\n",
      "    accuracy                           0.97     85443\n",
      "   macro avg       0.53      0.93      0.55     85443\n",
      "weighted avg       1.00      0.97      0.99     85443\n",
      "\n"
     ]
    }
   ],
   "source": [
    "# Predictions on test set\n",
    "y_test_pred = log_sm1.predict(X_test_pt)\n",
    "\n",
    "# Classification report on testing data\n",
    "print(classification_report(y_test, y_test_pred))"
   ]
  },
  {
   "cell_type": "code",
   "execution_count": 59,
   "metadata": {},
   "outputs": [
    {
     "data": {
      "text/plain": [
       "<matplotlib.legend.Legend at 0x11a07aad0>"
      ]
     },
     "execution_count": 59,
     "metadata": {},
     "output_type": "execute_result"
    },
    {
     "data": {
      "image/png": "[encoded data removed]",
      "text/plain": [
       "<Figure size 432x288 with 1 Axes>"
      ]
     },
     "metadata": {
      "needs_background": "light"
     },
     "output_type": "display_data"
    }
   ],
   "source": [
    "# XGBoost\n",
    "\n",
    "tree_range = range(1, 50, 5)\n",
    "score1 = []\n",
    "score2 = []\n",
    "for tree in tree_range:\n",
    "    xgb = XGBClassifier(n_estimators = tree)\n",
    "    xgb.fit(X_train_smote, y_train_smote)\n",
    "    score1.append(xgb.score(X_train_smote, y_train_smote))\n",
    "    score2.append(xgb.score(X_test_pt, y_test))\n",
    "    \n",
    "%matplotlib inline\n",
    "plt.plot(tree_range, score1, label = 'Accuracy on training set')\n",
    "plt.plot(tree_range, score2, label = 'Accuracy on testing set')\n",
    "plt.xlabel('Value of number of trees in XGBoost')\n",
    "plt.ylabel('Accuracy')\n",
    "plt.legend()"
   ]
  },
  {
   "cell_type": "code",
   "execution_count": 60,
   "metadata": {},
   "outputs": [
    {
     "name": "stdout",
     "output_type": "stream",
     "text": [
      "Accuracy of xgb on the testing data is :0.972\n"
     ]
    }
   ],
   "source": [
    "clf = XGBClassifier(n_estimators = 7)\n",
    "clf.fit(X_train_smote, y_train_smote)\n",
    "print('Accuracy of xgb on the testing data is :{:.3f}'.format(clf.score(X_test_pt, y_test)))"
   ]
  },
  {
   "cell_type": "code",
   "execution_count": 61,
   "metadata": {},
   "outputs": [
    {
     "name": "stdout",
     "output_type": "stream",
     "text": [
      "              precision    recall  f1-score   support\n",
      "\n",
      "           0       0.94      0.97      0.95    199020\n",
      "           1       0.97      0.93      0.95    199020\n",
      "\n",
      "    accuracy                           0.95    398040\n",
      "   macro avg       0.95      0.95      0.95    398040\n",
      "weighted avg       0.95      0.95      0.95    398040\n",
      "\n",
      "              precision    recall  f1-score   support\n",
      "\n",
      "           0       1.00      0.97      0.99     85295\n",
      "           1       0.05      0.88      0.10       148\n",
      "\n",
      "    accuracy                           0.97     85443\n",
      "   macro avg       0.53      0.93      0.54     85443\n",
      "weighted avg       1.00      0.97      0.98     85443\n",
      "\n"
     ]
    }
   ],
   "source": [
    "# Predictions on train data\n",
    "y_train_pred = clf.predict(X_train_smote)\n",
    "\n",
    "# Classification report\n",
    "print(classification_report(y_train_smote, y_train_pred))\n",
    "\n",
    "# Predictions on test data\n",
    "y_test_pred = clf.predict(X_test_pt)\n",
    "\n",
    "# Classification report\n",
    "print(classification_report(y_test, y_test_pred))"
   ]
  },
  {
   "cell_type": "markdown",
   "metadata": {},
   "source": [
    "We still see that Logistic Regression is performing better than XGBoost though marginally"
   ]
  },
  {
   "cell_type": "markdown",
   "metadata": {},
   "source": [
    "### Print the class distribution after applying ADASYN"
   ]
  },
  {
   "cell_type": "code",
   "execution_count": 62,
   "metadata": {},
   "outputs": [],
   "source": [
    "from imblearn.over_sampling import ADASYN\n",
    "\n",
    "ada = ADASYN(random_state=0)\n",
    "X_train_adasyn, y_train_adasyn = ada.fit_resample(X_train_pt, y_train)"
   ]
  },
  {
   "cell_type": "code",
   "execution_count": 63,
   "metadata": {},
   "outputs": [
    {
     "data": {
      "text/plain": [
       "0    199020\n",
       "1    198982\n",
       "Name: Class, dtype: int64"
      ]
     },
     "execution_count": 63,
     "metadata": {},
     "output_type": "execute_result"
    }
   ],
   "source": [
    "y_train_adasyn.value_counts()"
   ]
  },
  {
   "cell_type": "code",
   "execution_count": 64,
   "metadata": {},
   "outputs": [],
   "source": [
    "log_ad = LogisticRegression()\n",
    "\n",
    "num_C = {'C':np.logspace(-3,3,7), 'penalty':['l1','l2']}\n",
    "cv_num = StratifiedKFold(n_splits = 5, shuffle = True, random_state = 100)"
   ]
  },
  {
   "cell_type": "code",
   "execution_count": 65,
   "metadata": {},
   "outputs": [
    {
     "name": "stdout",
     "output_type": "stream",
     "text": [
      "Fitting 5 folds for each of 14 candidates, totalling 70 fits\n"
     ]
    },
    {
     "name": "stderr",
     "output_type": "stream",
     "text": [
      "[Parallel(n_jobs=-1)]: Using backend LokyBackend with 4 concurrent workers.\n",
      "[Parallel(n_jobs=-1)]: Done  42 tasks      | elapsed:   24.6s\n",
      "[Parallel(n_jobs=-1)]: Done  70 out of  70 | elapsed:   39.3s finished\n"
     ]
    },
    {
     "data": {
      "text/plain": [
       "GridSearchCV(cv=StratifiedKFold(n_splits=5, random_state=100, shuffle=True),\n",
       "             error_score=nan,\n",
       "             estimator=LogisticRegression(C=1.0, class_weight=None, dual=False,\n",
       "                                          fit_intercept=True,\n",
       "                                          intercept_scaling=1, l1_ratio=None,\n",
       "                                          max_iter=100, multi_class='auto',\n",
       "                                          n_jobs=None, penalty='l2',\n",
       "                                          random_state=None, solver='lbfgs',\n",
       "                                          tol=0.0001, verbose=0,\n",
       "                                          warm_start=False),\n",
       "             iid='deprecated', n_jobs=-1,\n",
       "             param_grid={'C': array([1.e-03, 1.e-02, 1.e-01, 1.e+00, 1.e+01, 1.e+02, 1.e+03]),\n",
       "                         'penalty': ['l1', 'l2']},\n",
       "             pre_dispatch='2*n_jobs', refit=True, return_train_score=True,\n",
       "             scoring='recall', verbose=1)"
      ]
     },
     "execution_count": 65,
     "metadata": {},
     "output_type": "execute_result"
    }
   ],
   "source": [
    "# Defining cross-validation module\n",
    "log_ad_cv = GridSearchCV(estimator = log_ad, param_grid = num_C, scoring = 'recall', cv = cv_num,\n",
    "                       return_train_score = True, verbose = 1, n_jobs = -1)\n",
    "\n",
    "# Fitting data on the algorithm\n",
    "log_ad_cv.fit(X_train_adasyn, y_train_adasyn)"
   ]
  },
  {
   "cell_type": "code",
   "execution_count": 66,
   "metadata": {},
   "outputs": [
    {
     "name": "stdout",
     "output_type": "stream",
     "text": [
      "The highest train recall is 0.8818536450110201 at {'C': 1000.0, 'penalty': 'l2'}\n"
     ]
    }
   ],
   "source": [
    "# Best recall score and hyperparameters\n",
    "best_score = log_ad_cv.best_score_\n",
    "best_param = log_ad_cv.best_params_\n",
    "\n",
    "print('The highest train recall is {0} at {1}'.format(best_score, best_param))"
   ]
  },
  {
   "cell_type": "code",
   "execution_count": 67,
   "metadata": {},
   "outputs": [
    {
     "name": "stdout",
     "output_type": "stream",
     "text": [
      "              precision    recall  f1-score   support\n",
      "\n",
      "           0       0.89      0.91      0.90    199020\n",
      "           1       0.91      0.88      0.89    198982\n",
      "\n",
      "    accuracy                           0.90    398002\n",
      "   macro avg       0.90      0.90      0.90    398002\n",
      "weighted avg       0.90      0.90      0.90    398002\n",
      "\n"
     ]
    }
   ],
   "source": [
    "# Defining model with optimal hyperparameters\n",
    "log_ad1 = LogisticRegression(C = 1000, penalty = 'l2')\n",
    "\n",
    "# Fitting the model\n",
    "log_ad1.fit(X_train_adasyn, y_train_adasyn)\n",
    "\n",
    "# Prediction on training data\n",
    "y_train_pred = log_ad1.predict(X_train_adasyn)\n",
    "\n",
    "# Classification report on training data\n",
    "print(classification_report(y_train_adasyn, y_train_pred))"
   ]
  },
  {
   "cell_type": "code",
   "execution_count": 68,
   "metadata": {},
   "outputs": [
    {
     "name": "stdout",
     "output_type": "stream",
     "text": [
      "              precision    recall  f1-score   support\n",
      "\n",
      "           0       1.00      0.91      0.95     85295\n",
      "           1       0.02      0.93      0.03       148\n",
      "\n",
      "    accuracy                           0.91     85443\n",
      "   macro avg       0.51      0.92      0.49     85443\n",
      "weighted avg       1.00      0.91      0.95     85443\n",
      "\n"
     ]
    }
   ],
   "source": [
    "# Predictions on test set\n",
    "y_test_pred = log_ad1.predict(X_test_pt)\n",
    "\n",
    "# Classification report on testing data\n",
    "print(classification_report(y_test, y_test_pred))"
   ]
  },
  {
   "cell_type": "code",
   "execution_count": 69,
   "metadata": {},
   "outputs": [
    {
     "data": {
      "text/plain": [
       "<matplotlib.legend.Legend at 0x1a410e7550>"
      ]
     },
     "execution_count": 69,
     "metadata": {},
     "output_type": "execute_result"
    },
    {
     "data": {
      "image/png": "[encoded data removed]",
      "text/plain": [
       "<Figure size 432x288 with 1 Axes>"
      ]
     },
     "metadata": {
      "needs_background": "light"
     },
     "output_type": "display_data"
    }
   ],
   "source": [
    "# XGBoost\n",
    "\n",
    "tree_range = range(1, 50, 5)\n",
    "score1 = []\n",
    "score2 = []\n",
    "for tree in tree_range:\n",
    "    xgb = XGBClassifier(n_estimators = tree)\n",
    "    xgb.fit(X_train_adasyn, y_train_adasyn)\n",
    "    score1.append(xgb.score(X_train_adasyn, y_train_adasyn))\n",
    "    score2.append(xgb.score(X_test_pt, y_test))\n",
    "    \n",
    "%matplotlib inline\n",
    "plt.plot(tree_range, score1, label = 'Accuracy on training set')\n",
    "plt.plot(tree_range, score2, label = 'Accuracy on testing set')\n",
    "plt.xlabel('Value of number of trees in XGBoost')\n",
    "plt.ylabel('Accuracy')\n",
    "plt.legend()"
   ]
  },
  {
   "cell_type": "code",
   "execution_count": 70,
   "metadata": {},
   "outputs": [
    {
     "name": "stdout",
     "output_type": "stream",
     "text": [
      "Accuracy of xgb on the testing data is :0.893\n"
     ]
    }
   ],
   "source": [
    "clf = XGBClassifier(n_estimators = 10)\n",
    "clf.fit(X_train_adasyn, y_train_adasyn)\n",
    "print('Accuracy of xgb on the testing data is :{:.3f}'.format(clf.score(X_test_pt, y_test)))"
   ]
  },
  {
   "cell_type": "code",
   "execution_count": 71,
   "metadata": {},
   "outputs": [
    {
     "name": "stdout",
     "output_type": "stream",
     "text": [
      "              precision    recall  f1-score   support\n",
      "\n",
      "           0       0.91      0.89      0.90    199020\n",
      "           1       0.89      0.91      0.90    198982\n",
      "\n",
      "    accuracy                           0.90    398002\n",
      "   macro avg       0.90      0.90      0.90    398002\n",
      "weighted avg       0.90      0.90      0.90    398002\n",
      "\n",
      "              precision    recall  f1-score   support\n",
      "\n",
      "           0       1.00      0.89      0.94     85295\n",
      "           1       0.01      0.91      0.03       148\n",
      "\n",
      "    accuracy                           0.89     85443\n",
      "   macro avg       0.51      0.90      0.49     85443\n",
      "weighted avg       1.00      0.89      0.94     85443\n",
      "\n"
     ]
    }
   ],
   "source": [
    "# Predictions on train data\n",
    "y_train_pred = clf.predict(X_train_adasyn)\n",
    "\n",
    "# Classification report\n",
    "print(classification_report(y_train_adasyn, y_train_pred))\n",
    "\n",
    "# Predictions on test data\n",
    "y_test_pred = clf.predict(X_test_pt)\n",
    "\n",
    "# Classification report\n",
    "print(classification_report(y_test, y_test_pred))"
   ]
  },
  {
   "cell_type": "markdown",
   "metadata": {},
   "source": [
    "### Print the important features of the best model to understand the dataset"
   ]
  },
  {
   "cell_type": "code",
   "execution_count": 72,
   "metadata": {},
   "outputs": [
    {
     "name": "stdout",
     "output_type": "stream",
     "text": [
      "Top var = 4\n",
      "2nd Top var = 14\n",
      "3rd Top var = 7\n"
     ]
    },
    {
     "data": {
      "text/plain": [
       "<matplotlib.legend.Legend at 0x11a1d5ed0>"
      ]
     },
     "execution_count": 72,
     "metadata": {},
     "output_type": "execute_result"
    },
    {
     "data": {
      "image/png": "[encoded data removed]",
      "text/plain": [
       "<Figure size 1440x1440 with 1 Axes>"
      ]
     },
     "metadata": {
      "needs_background": "light"
     },
     "output_type": "display_data"
    }
   ],
   "source": [
    "var_imp = []\n",
    "for i in clf.feature_importances_:\n",
    "    var_imp.append(i)\n",
    "print('Top var =', var_imp.index(np.sort(clf.feature_importances_)[-1])+1)\n",
    "print('2nd Top var =', var_imp.index(np.sort(clf.feature_importances_)[-2])+1)\n",
    "print('3rd Top var =', var_imp.index(np.sort(clf.feature_importances_)[-3])+1)\n",
    "\n",
    "# Variable on Index-13 and Index-9 seems to be the top 2 variables\n",
    "top_var_index = var_imp.index(np.sort(clf.feature_importances_)[-1])\n",
    "second_top_var_index = var_imp.index(np.sort(clf.feature_importances_)[-2])\n",
    "\n",
    "X_train_1 = X_train.to_numpy()[np.where(y_train==1.0)]\n",
    "X_train_0 = X_train.to_numpy()[np.where(y_train==0.0)]\n",
    "\n",
    "np.random.shuffle(X_train_0)\n",
    "\n",
    "import matplotlib.pyplot as plt\n",
    "%matplotlib inline\n",
    "plt.rcParams['figure.figsize'] = [20, 20]\n",
    "\n",
    "plt.scatter(X_train_1[:, top_var_index], X_train_1[:, second_top_var_index], label='Actual Class-1 Examples')\n",
    "plt.scatter(X_train_0[:X_train_1.shape[0], top_var_index], X_train_0[:X_train_1.shape[0], second_top_var_index],\n",
    "            label='Actual Class-0 Examples')\n",
    "plt.legend()"
   ]
  },
  {
   "cell_type": "code",
   "execution_count": 73,
   "metadata": {},
   "outputs": [
    {
     "name": "stdout",
     "output_type": "stream",
     "text": [
      "[[76197  9098]\n",
      " [   14   134]]\n",
      "Sensitivity: \t0.91\n",
      "Specificity: \t0.89\n"
     ]
    }
   ],
   "source": [
    "#### Print the FPR,TPR & select the best threshold from the roc curve\n",
    "print(confusion_matrix(y_test, y_test_pred))\n",
    "\n",
    "# Importing packages\n",
    "from imblearn.metrics import sensitivity_specificity_support\n",
    "sensitivity, specificity, _ = sensitivity_specificity_support(y_test, y_test_pred, average='binary')\n",
    "print(\"Sensitivity: \\t\", round(sensitivity, 2), \"\\n\", \"Specificity: \\t\", round(specificity, 2), sep='')"
   ]
  },
  {
   "cell_type": "code",
   "execution_count": 74,
   "metadata": {},
   "outputs": [
    {
     "name": "stdout",
     "output_type": "stream",
     "text": [
      "Train auc = 0.901476413295599\n"
     ]
    }
   ],
   "source": [
    "# Calculating ROC score\n",
    "from sklearn import metrics\n",
    "from sklearn.metrics import roc_auc_score\n",
    "print('Train auc =', roc_auc_score(y_train_adasyn, y_train_pred))"
   ]
  },
  {
   "cell_type": "code",
   "execution_count": 75,
   "metadata": {},
   "outputs": [
    {
     "name": "stdout",
     "output_type": "stream",
     "text": [
      "2\n"
     ]
    }
   ],
   "source": [
    "fpr, tpr, thresholds = metrics.roc_curve(y_train_adasyn, y_train_pred, pos_label = 2)\n",
    "threshold = thresholds[np.argmax(tpr-fpr)]\n",
    "print(threshold)"
   ]
  },
  {
   "cell_type": "code",
   "execution_count": 102,
   "metadata": {},
   "outputs": [],
   "source": [
    "# Converting the y_test values to dataframe\n",
    "Predicted = pd.Series(y_test_pred)\n",
    "Outcome = pd.DataFrame(Predicted)\n",
    "Outcome.reset_index(drop=True, inplace=True)"
   ]
  },
  {
   "cell_type": "code",
   "execution_count": 103,
   "metadata": {},
   "outputs": [
    {
     "data": {
      "text/html": [
       "<div>\n",
       "<style scoped>\n",
       "    .dataframe tbody tr th:only-of-type {\n",
       "        vertical-align: middle;\n",
       "    }\n",
       "\n",
       "    .dataframe tbody tr th {\n",
       "        vertical-align: top;\n",
       "    }\n",
       "\n",
       "    .dataframe thead th {\n",
       "        text-align: right;\n",
       "    }\n",
       "</style>\n",
       "<table border=\"1\" class=\"dataframe\">\n",
       "  <thead>\n",
       "    <tr style=\"text-align: right;\">\n",
       "      <th></th>\n",
       "      <th>V1</th>\n",
       "      <th>V2</th>\n",
       "      <th>V3</th>\n",
       "      <th>V4</th>\n",
       "      <th>V5</th>\n",
       "      <th>V6</th>\n",
       "      <th>V7</th>\n",
       "      <th>V8</th>\n",
       "      <th>V9</th>\n",
       "      <th>V10</th>\n",
       "      <th>...</th>\n",
       "      <th>V21</th>\n",
       "      <th>V22</th>\n",
       "      <th>V23</th>\n",
       "      <th>V24</th>\n",
       "      <th>V25</th>\n",
       "      <th>V26</th>\n",
       "      <th>V27</th>\n",
       "      <th>V28</th>\n",
       "      <th>Amount</th>\n",
       "      <th>Class</th>\n",
       "    </tr>\n",
       "  </thead>\n",
       "  <tbody>\n",
       "    <tr>\n",
       "      <td>0</td>\n",
       "      <td>-0.548103</td>\n",
       "      <td>1.376074</td>\n",
       "      <td>0.051147</td>\n",
       "      <td>4.300577</td>\n",
       "      <td>1.761938</td>\n",
       "      <td>0.081805</td>\n",
       "      <td>1.788166</td>\n",
       "      <td>-0.302164</td>\n",
       "      <td>-2.941339</td>\n",
       "      <td>1.393164</td>\n",
       "      <td>...</td>\n",
       "      <td>0.316647</td>\n",
       "      <td>0.700714</td>\n",
       "      <td>-0.532490</td>\n",
       "      <td>-0.680250</td>\n",
       "      <td>1.232858</td>\n",
       "      <td>0.980223</td>\n",
       "      <td>-0.042880</td>\n",
       "      <td>0.053000</td>\n",
       "      <td>101.42</td>\n",
       "      <td>0</td>\n",
       "    </tr>\n",
       "    <tr>\n",
       "      <td>1</td>\n",
       "      <td>0.437324</td>\n",
       "      <td>1.824381</td>\n",
       "      <td>-2.299325</td>\n",
       "      <td>1.538479</td>\n",
       "      <td>0.791887</td>\n",
       "      <td>-1.414298</td>\n",
       "      <td>0.482083</td>\n",
       "      <td>0.339477</td>\n",
       "      <td>-0.674650</td>\n",
       "      <td>-1.234870</td>\n",
       "      <td>...</td>\n",
       "      <td>-0.077049</td>\n",
       "      <td>-0.170282</td>\n",
       "      <td>0.108469</td>\n",
       "      <td>-0.365513</td>\n",
       "      <td>-0.436975</td>\n",
       "      <td>-0.393859</td>\n",
       "      <td>0.121535</td>\n",
       "      <td>-0.061320</td>\n",
       "      <td>9.99</td>\n",
       "      <td>0</td>\n",
       "    </tr>\n",
       "    <tr>\n",
       "      <td>2</td>\n",
       "      <td>2.056846</td>\n",
       "      <td>0.042030</td>\n",
       "      <td>-1.296059</td>\n",
       "      <td>0.368958</td>\n",
       "      <td>0.032669</td>\n",
       "      <td>-1.349797</td>\n",
       "      <td>0.334441</td>\n",
       "      <td>-0.463096</td>\n",
       "      <td>0.452703</td>\n",
       "      <td>-0.016376</td>\n",
       "      <td>...</td>\n",
       "      <td>0.261879</td>\n",
       "      <td>0.949829</td>\n",
       "      <td>-0.018148</td>\n",
       "      <td>0.109873</td>\n",
       "      <td>0.295611</td>\n",
       "      <td>-0.115295</td>\n",
       "      <td>-0.015115</td>\n",
       "      <td>-0.054976</td>\n",
       "      <td>10.49</td>\n",
       "      <td>0</td>\n",
       "    </tr>\n",
       "    <tr>\n",
       "      <td>3</td>\n",
       "      <td>-0.497480</td>\n",
       "      <td>0.785269</td>\n",
       "      <td>1.695245</td>\n",
       "      <td>-0.644791</td>\n",
       "      <td>0.491553</td>\n",
       "      <td>0.430883</td>\n",
       "      <td>0.510721</td>\n",
       "      <td>0.053386</td>\n",
       "      <td>0.552390</td>\n",
       "      <td>-0.545978</td>\n",
       "      <td>...</td>\n",
       "      <td>-0.280792</td>\n",
       "      <td>-0.548862</td>\n",
       "      <td>-0.367317</td>\n",
       "      <td>-0.044278</td>\n",
       "      <td>0.430846</td>\n",
       "      <td>-0.657662</td>\n",
       "      <td>0.179848</td>\n",
       "      <td>-0.081837</td>\n",
       "      <td>1.00</td>\n",
       "      <td>0</td>\n",
       "    </tr>\n",
       "    <tr>\n",
       "      <td>4</td>\n",
       "      <td>1.611949</td>\n",
       "      <td>-0.938343</td>\n",
       "      <td>-1.200421</td>\n",
       "      <td>0.653356</td>\n",
       "      <td>-0.386518</td>\n",
       "      <td>-0.465937</td>\n",
       "      <td>0.069881</td>\n",
       "      <td>-0.147945</td>\n",
       "      <td>0.849526</td>\n",
       "      <td>0.005008</td>\n",
       "      <td>...</td>\n",
       "      <td>0.081319</td>\n",
       "      <td>-0.184030</td>\n",
       "      <td>0.065733</td>\n",
       "      <td>0.742927</td>\n",
       "      <td>-0.283315</td>\n",
       "      <td>0.172087</td>\n",
       "      <td>-0.091352</td>\n",
       "      <td>-0.009690</td>\n",
       "      <td>227.75</td>\n",
       "      <td>0</td>\n",
       "    </tr>\n",
       "  </tbody>\n",
       "</table>\n",
       "<p>5 rows × 30 columns</p>\n",
       "</div>"
      ],
      "text/plain": [
       "         V1        V2        V3        V4        V5        V6        V7  \\\n",
       "0 -0.548103  1.376074  0.051147  4.300577  1.761938  0.081805  1.788166   \n",
       "1  0.437324  1.824381 -2.299325  1.538479  0.791887 -1.414298  0.482083   \n",
       "2  2.056846  0.042030 -1.296059  0.368958  0.032669 -1.349797  0.334441   \n",
       "3 -0.497480  0.785269  1.695245 -0.644791  0.491553  0.430883  0.510721   \n",
       "4  1.611949 -0.938343 -1.200421  0.653356 -0.386518 -0.465937  0.069881   \n",
       "\n",
       "         V8        V9       V10  ...       V21       V22       V23       V24  \\\n",
       "0 -0.302164 -2.941339  1.393164  ...  0.316647  0.700714 -0.532490 -0.680250   \n",
       "1  0.339477 -0.674650 -1.234870  ... -0.077049 -0.170282  0.108469 -0.365513   \n",
       "2 -0.463096  0.452703 -0.016376  ...  0.261879  0.949829 -0.018148  0.109873   \n",
       "3  0.053386  0.552390 -0.545978  ... -0.280792 -0.548862 -0.367317 -0.044278   \n",
       "4 -0.147945  0.849526  0.005008  ...  0.081319 -0.184030  0.065733  0.742927   \n",
       "\n",
       "        V25       V26       V27       V28  Amount  Class  \n",
       "0  1.232858  0.980223 -0.042880  0.053000  101.42      0  \n",
       "1 -0.436975 -0.393859  0.121535 -0.061320    9.99      0  \n",
       "2  0.295611 -0.115295 -0.015115 -0.054976   10.49      0  \n",
       "3  0.430846 -0.657662  0.179848 -0.081837    1.00      0  \n",
       "4 -0.283315  0.172087 -0.091352 -0.009690  227.75      0  \n",
       "\n",
       "[5 rows x 30 columns]"
      ]
     },
     "execution_count": 103,
     "metadata": {},
     "output_type": "execute_result"
    }
   ],
   "source": [
    "# Concatenating the X_test and y_test\n",
    "final = pd.concat([dependent_test, independent_test], axis = 1)\n",
    "final.reset_index(drop=True, inplace = True)\n",
    "final.head()"
   ]
  },
  {
   "cell_type": "code",
   "execution_count": 108,
   "metadata": {},
   "outputs": [
    {
     "data": {
      "text/html": [
       "<div>\n",
       "<style scoped>\n",
       "    .dataframe tbody tr th:only-of-type {\n",
       "        vertical-align: middle;\n",
       "    }\n",
       "\n",
       "    .dataframe tbody tr th {\n",
       "        vertical-align: top;\n",
       "    }\n",
       "\n",
       "    .dataframe thead th {\n",
       "        text-align: right;\n",
       "    }\n",
       "</style>\n",
       "<table border=\"1\" class=\"dataframe\">\n",
       "  <thead>\n",
       "    <tr style=\"text-align: right;\">\n",
       "      <th></th>\n",
       "      <th>V1</th>\n",
       "      <th>V2</th>\n",
       "      <th>V3</th>\n",
       "      <th>V4</th>\n",
       "      <th>V5</th>\n",
       "      <th>V6</th>\n",
       "      <th>V7</th>\n",
       "      <th>V8</th>\n",
       "      <th>V9</th>\n",
       "      <th>V10</th>\n",
       "      <th>...</th>\n",
       "      <th>V22</th>\n",
       "      <th>V23</th>\n",
       "      <th>V24</th>\n",
       "      <th>V25</th>\n",
       "      <th>V26</th>\n",
       "      <th>V27</th>\n",
       "      <th>V28</th>\n",
       "      <th>Amount</th>\n",
       "      <th>Class</th>\n",
       "      <th>Prediction</th>\n",
       "    </tr>\n",
       "  </thead>\n",
       "  <tbody>\n",
       "    <tr>\n",
       "      <td>0</td>\n",
       "      <td>-0.548103</td>\n",
       "      <td>1.376074</td>\n",
       "      <td>0.051147</td>\n",
       "      <td>4.300577</td>\n",
       "      <td>1.761938</td>\n",
       "      <td>0.081805</td>\n",
       "      <td>1.788166</td>\n",
       "      <td>-0.302164</td>\n",
       "      <td>-2.941339</td>\n",
       "      <td>1.393164</td>\n",
       "      <td>...</td>\n",
       "      <td>0.700714</td>\n",
       "      <td>-0.532490</td>\n",
       "      <td>-0.680250</td>\n",
       "      <td>1.232858</td>\n",
       "      <td>0.980223</td>\n",
       "      <td>-0.042880</td>\n",
       "      <td>0.053000</td>\n",
       "      <td>101.42</td>\n",
       "      <td>0</td>\n",
       "      <td>1</td>\n",
       "    </tr>\n",
       "    <tr>\n",
       "      <td>1</td>\n",
       "      <td>0.437324</td>\n",
       "      <td>1.824381</td>\n",
       "      <td>-2.299325</td>\n",
       "      <td>1.538479</td>\n",
       "      <td>0.791887</td>\n",
       "      <td>-1.414298</td>\n",
       "      <td>0.482083</td>\n",
       "      <td>0.339477</td>\n",
       "      <td>-0.674650</td>\n",
       "      <td>-1.234870</td>\n",
       "      <td>...</td>\n",
       "      <td>-0.170282</td>\n",
       "      <td>0.108469</td>\n",
       "      <td>-0.365513</td>\n",
       "      <td>-0.436975</td>\n",
       "      <td>-0.393859</td>\n",
       "      <td>0.121535</td>\n",
       "      <td>-0.061320</td>\n",
       "      <td>9.99</td>\n",
       "      <td>0</td>\n",
       "      <td>1</td>\n",
       "    </tr>\n",
       "    <tr>\n",
       "      <td>2</td>\n",
       "      <td>2.056846</td>\n",
       "      <td>0.042030</td>\n",
       "      <td>-1.296059</td>\n",
       "      <td>0.368958</td>\n",
       "      <td>0.032669</td>\n",
       "      <td>-1.349797</td>\n",
       "      <td>0.334441</td>\n",
       "      <td>-0.463096</td>\n",
       "      <td>0.452703</td>\n",
       "      <td>-0.016376</td>\n",
       "      <td>...</td>\n",
       "      <td>0.949829</td>\n",
       "      <td>-0.018148</td>\n",
       "      <td>0.109873</td>\n",
       "      <td>0.295611</td>\n",
       "      <td>-0.115295</td>\n",
       "      <td>-0.015115</td>\n",
       "      <td>-0.054976</td>\n",
       "      <td>10.49</td>\n",
       "      <td>0</td>\n",
       "      <td>0</td>\n",
       "    </tr>\n",
       "    <tr>\n",
       "      <td>3</td>\n",
       "      <td>-0.497480</td>\n",
       "      <td>0.785269</td>\n",
       "      <td>1.695245</td>\n",
       "      <td>-0.644791</td>\n",
       "      <td>0.491553</td>\n",
       "      <td>0.430883</td>\n",
       "      <td>0.510721</td>\n",
       "      <td>0.053386</td>\n",
       "      <td>0.552390</td>\n",
       "      <td>-0.545978</td>\n",
       "      <td>...</td>\n",
       "      <td>-0.548862</td>\n",
       "      <td>-0.367317</td>\n",
       "      <td>-0.044278</td>\n",
       "      <td>0.430846</td>\n",
       "      <td>-0.657662</td>\n",
       "      <td>0.179848</td>\n",
       "      <td>-0.081837</td>\n",
       "      <td>1.00</td>\n",
       "      <td>0</td>\n",
       "      <td>0</td>\n",
       "    </tr>\n",
       "    <tr>\n",
       "      <td>4</td>\n",
       "      <td>1.611949</td>\n",
       "      <td>-0.938343</td>\n",
       "      <td>-1.200421</td>\n",
       "      <td>0.653356</td>\n",
       "      <td>-0.386518</td>\n",
       "      <td>-0.465937</td>\n",
       "      <td>0.069881</td>\n",
       "      <td>-0.147945</td>\n",
       "      <td>0.849526</td>\n",
       "      <td>0.005008</td>\n",
       "      <td>...</td>\n",
       "      <td>-0.184030</td>\n",
       "      <td>0.065733</td>\n",
       "      <td>0.742927</td>\n",
       "      <td>-0.283315</td>\n",
       "      <td>0.172087</td>\n",
       "      <td>-0.091352</td>\n",
       "      <td>-0.009690</td>\n",
       "      <td>227.75</td>\n",
       "      <td>0</td>\n",
       "      <td>0</td>\n",
       "    </tr>\n",
       "  </tbody>\n",
       "</table>\n",
       "<p>5 rows × 31 columns</p>\n",
       "</div>"
      ],
      "text/plain": [
       "         V1        V2        V3        V4        V5        V6        V7  \\\n",
       "0 -0.548103  1.376074  0.051147  4.300577  1.761938  0.081805  1.788166   \n",
       "1  0.437324  1.824381 -2.299325  1.538479  0.791887 -1.414298  0.482083   \n",
       "2  2.056846  0.042030 -1.296059  0.368958  0.032669 -1.349797  0.334441   \n",
       "3 -0.497480  0.785269  1.695245 -0.644791  0.491553  0.430883  0.510721   \n",
       "4  1.611949 -0.938343 -1.200421  0.653356 -0.386518 -0.465937  0.069881   \n",
       "\n",
       "         V8        V9       V10  ...       V22       V23       V24       V25  \\\n",
       "0 -0.302164 -2.941339  1.393164  ...  0.700714 -0.532490 -0.680250  1.232858   \n",
       "1  0.339477 -0.674650 -1.234870  ... -0.170282  0.108469 -0.365513 -0.436975   \n",
       "2 -0.463096  0.452703 -0.016376  ...  0.949829 -0.018148  0.109873  0.295611   \n",
       "3  0.053386  0.552390 -0.545978  ... -0.548862 -0.367317 -0.044278  0.430846   \n",
       "4 -0.147945  0.849526  0.005008  ... -0.184030  0.065733  0.742927 -0.283315   \n",
       "\n",
       "        V26       V27       V28  Amount  Class  Prediction  \n",
       "0  0.980223 -0.042880  0.053000  101.42      0           1  \n",
       "1 -0.393859  0.121535 -0.061320    9.99      0           1  \n",
       "2 -0.115295 -0.015115 -0.054976   10.49      0           0  \n",
       "3 -0.657662  0.179848 -0.081837    1.00      0           0  \n",
       "4  0.172087 -0.091352 -0.009690  227.75      0           0  \n",
       "\n",
       "[5 rows x 31 columns]"
      ]
     },
     "execution_count": 108,
     "metadata": {},
     "output_type": "execute_result"
    }
   ],
   "source": [
    "# Concatenating Predictions\n",
    "final1 = pd.concat([final, Outcome.rename(columns = {0:'Prediction'})], axis = 1)\n",
    "final1.head()"
   ]
  },
  {
   "cell_type": "code",
   "execution_count": 115,
   "metadata": {},
   "outputs": [],
   "source": [
    "# Importing the test data alongwith actuals and predictions to csv file\n",
    "final1.to_csv(r'/Users/rishabhkashyap/Downloads/final.csv', index = False)"
   ]
  },
  {
   "cell_type": "markdown",
   "metadata": {},
   "source": [
    "### Cost Benefit Analysis"
   ]
  },
  {
   "cell_type": "markdown",
   "metadata": {},
   "source": [
    "Total fraud predictions made by the model = (14 + 134) = 148\n",
    "\n",
    "Cost beared by the bank to verify all the predictions =  (85,443 * 10 INR) = 8,54,430 INR\n",
    "\n",
    "Savings = 134 * 10 = 1,340 INR\n",
    "\n",
    "Loss = 14 * 10 = 140 INR\n",
    "\n",
    "Total Savings = 1,340 - ((148 * 10) + 140) = 1,340 - (1,480 + 140) = 1,340 - 1620 = -280 INR"
   ]
  }
 ],
 "metadata": {
  "kernelspec": {
   "display_name": "Python 3",
   "language": "python",
   "name": "python3"
  },
  "language_info": {
   "codemirror_mode": {
    "name": "ipython",
    "version": 3
   },
   "file_extension": ".py",
   "mimetype": "text/x-python",
   "name": "python",
   "nbconvert_exporter": "python",
   "pygments_lexer": "ipython3",
   "version": "3.7.4"
  }
 },
 "nbformat": 4,
 "nbformat_minor": 2
}
